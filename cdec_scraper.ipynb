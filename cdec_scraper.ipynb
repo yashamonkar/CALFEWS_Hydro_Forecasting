{
 "cells": [
  {
   "cell_type": "code",
   "execution_count": null,
   "id": "51cc1d2f",
   "metadata": {},
   "outputs": [],
   "source": [
    "import requests\n",
    "import csv\n",
    "import json\n",
    "from datetime import datetime, timedelta\n",
    "import pandas as pd\n",
    "import matplotlib.pyplot as plt\n",
    "from matplotlib.dates import DateFormatter\n",
    "import io\n",
    "import seaborn as sns\n",
    "import numpy as np\n",
    "from copy import copy\n",
    "from Yash.CALFEWS_Files.scraper import Scraper"
   ]
  },
  {
   "cell_type": "code",
   "execution_count": null,
   "id": "a6d81581",
   "metadata": {},
   "outputs": [],
   "source": [
    "start_string = '1995-10-01'\n",
    "dsf = \"%Y-%m-%d\"\n",
    "# data types that are common to all basins/reservoirs\n",
    "labels_basin = ['snow', 'fnf', 'storage', 'inf', 'otf', 'evap', 'precip', 'gains', 'fci']\n",
    "# these are the keys we will associate with each basin/reservoir\n"
   ]
  },
  {
   "cell_type": "code",
   "execution_count": null,
   "id": "ddff2862",
   "metadata": {},
   "outputs": [],
   "source": [
    "# some CDEC station names are different for some data types,\n",
    "# final data will all be associated with these keys\n",
    "#TRT is the added key for Trinity\n",
    "stations_basin = ['SHA', 'TRT', 'ORO', 'YRS', 'FOL', 'MHB', 'PAR', 'NHG', 'NML', 'DNP', 'EXC', 'MIL', 'PFT', 'KWH', 'SUC', 'ISB']\n"
   ]
  },
  {
   "cell_type": "code",
   "execution_count": null,
   "id": "ed343e39",
   "metadata": {},
   "outputs": [],
   "source": [
    "# this initializes the object that will become the input scenario\n",
    "calfews_data = Scraper(stations_basin, labels_basin, timestep = 'd', start_date = start_string, date_string_format = dsf)\n"
   ]
  },
  {
   "cell_type": "code",
   "execution_count": null,
   "id": "3c0e063b",
   "metadata": {},
   "outputs": [],
   "source": [
    "#Checks\n",
    "calfews_data.data_timeseries"
   ]
  },
  {
   "cell_type": "code",
   "execution_count": null,
   "id": "5237ab6e",
   "metadata": {},
   "outputs": [],
   "source": [
    "# monthly inputs (extend further back)\n",
    "start_string_monthly = '1905-10-01'\n",
    "labels_basin_monthly = ['fnf', 'inf']\n",
    "calfews_data_m = Scraper(stations_basin, labels_basin_monthly, timestep = 'm', start_date = start_string_monthly, date_string_format = dsf)\n"
   ]
  },
  {
   "cell_type": "code",
   "execution_count": null,
   "id": "19948f7a",
   "metadata": {},
   "outputs": [],
   "source": [
    "#Checks\n",
    "calfews_data_m.data_timeseries"
   ]
  },
  {
   "cell_type": "code",
   "execution_count": null,
   "id": "e1c34b89",
   "metadata": {},
   "outputs": [],
   "source": [
    "# some additional data does not conform with the above basin/data type pairs above\n",
    "#Generate data columns for San Luis, Delta Pumps, and Old-Middle River Flows\n",
    "san_luis_labels = ['SL', 'SLF', 'SLS', 'TRP', 'HRO', 'OMR']\n",
    "san_luis_suffix = ['storage', 'storage', 'storage', 'pump', 'pump', '']\n",
    "calfews_data.add_extra_stations(san_luis_labels, san_luis_suffix)\n"
   ]
  },
  {
   "cell_type": "code",
   "execution_count": null,
   "id": "91098758",
   "metadata": {},
   "outputs": [],
   "source": [
    "#Checks\n",
    "calfews_data.data_timeseries"
   ]
  },
  {
   "cell_type": "code",
   "execution_count": null,
   "id": "905b64d9",
   "metadata": {},
   "outputs": [],
   "source": [
    "# Generate data columns for incremental flow to Rio Vista, Vernalis, delta inflow from eastside streams, \n",
    "# in-delta depletions, pumping into contra-costa canal and marker slough, total delta inflow, total vernalis flow\n",
    "delta_labels = ['SAC', 'SJ', 'EAST', 'delta', 'CCC', 'BAK', 'delta', 'vernalis']\n",
    "delta_suffix = ['gains', 'gains', 'gains', 'depletions', 'pump', 'pump', 'inflow', 'inflow']\n",
    "calfews_data.add_extra_stations(delta_labels, delta_suffix)"
   ]
  },
  {
   "cell_type": "code",
   "execution_count": null,
   "id": "470c0841",
   "metadata": {},
   "outputs": [],
   "source": [
    "#Checks\n",
    "calfews_data.data_timeseries"
   ]
  },
  {
   "cell_type": "code",
   "execution_count": null,
   "id": "37f234db",
   "metadata": {},
   "outputs": [],
   "source": [
    "#setup input scenario data file with all key/data type pairs\n",
    "calfews_data.initialize_dataframe()\n",
    "calfews_data_m.initialize_dataframe()"
   ]
  },
  {
   "cell_type": "code",
   "execution_count": null,
   "id": "63ffdd18",
   "metadata": {},
   "outputs": [],
   "source": [
    "#Checks \n",
    "calfews_data_m.real_time_data\n"
   ]
  },
  {
   "cell_type": "code",
   "execution_count": null,
   "id": "d09d4aed",
   "metadata": {},
   "outputs": [],
   "source": [
    "##Monthly Stations Column Lists:\n",
    "# when CDEC data uses different keys than the main 'basin key'\n",
    "# we need to associate that key with the main 'basin key' for a specific data type\n",
    "calfews_data_m.add_station_map(stations_basin, stations_basin, ['inf',])\n",
    "\n"
   ]
  },
  {
   "cell_type": "code",
   "execution_count": null,
   "id": "e983652b",
   "metadata": {},
   "outputs": [],
   "source": [
    "#Changing Trinity Monthly Inflows to Clair Engle Lake\n",
    "calfews_data_m.add_station_map(['TRT',], ['CLE',], ['inf',])"
   ]
  },
  {
   "cell_type": "code",
   "execution_count": null,
   "id": "ca760721",
   "metadata": {},
   "outputs": [],
   "source": [
    "#Checks\n",
    "calfews_data_m.real_time_data"
   ]
  },
  {
   "cell_type": "code",
   "execution_count": null,
   "id": "6507aaf5",
   "metadata": {},
   "outputs": [],
   "source": [
    "# these are the station keys for monthly full-natural flow associated with each key in stations_basin\n",
    "# TNL - Trinity River at Lewiston has FNF records going back to 1911\n",
    "stations_monthly_fnf = ['SBB', 'TNL', 'FTO', 'YRS', 'AMF', 'CSN', 'MKM', 'NHG', 'SNS', 'TLG', 'MRC', 'SJF', 'KGF', 'KWT', 'SCC', 'KRI']\n",
    "calfews_data_m.add_station_map(stations_basin, stations_monthly_fnf, ['fnf',])\n",
    "\n"
   ]
  },
  {
   "cell_type": "code",
   "execution_count": null,
   "id": "68d139d1",
   "metadata": {},
   "outputs": [],
   "source": [
    "#Checks\n",
    "calfews_data_m.station_use"
   ]
  },
  {
   "cell_type": "code",
   "execution_count": null,
   "id": "d6aa2aeb",
   "metadata": {},
   "outputs": [],
   "source": [
    "# these are the station keys for daily downstream incremental flows associated with each key in stations_basin\n",
    "#None added for Trinity in second position\n",
    "station_names = ['WLK', 'none', 'GRL', 'MRY', 'none', 'none', 'none', 'none', 'OBB', 'LGN', 'CRS', 'GRF', 'none', 'none', 'none', 'none']\n",
    "station_types = ['gains',]\n",
    "calfews_data.add_station_map(stations_basin, station_names, station_types)"
   ]
  },
  {
   "cell_type": "code",
   "execution_count": null,
   "id": "d26a694c",
   "metadata": {},
   "outputs": [],
   "source": [
    "#Checks\n",
    "calfews_data.station_use"
   ]
  },
  {
   "cell_type": "code",
   "execution_count": null,
   "id": "1687bf4c",
   "metadata": {},
   "outputs": [],
   "source": [
    "# different station keys for Trinity\n",
    "calfews_data.add_station_map(['TRT',], ['TNL'], ['fnf',])\n",
    "calfews_data.add_station_map(['TRT',], ['CLE'], ['storage',])\n",
    "calfews_data.add_station_map(['TRT',], ['CLE'], ['inf',])\n",
    "calfews_data.add_station_map(['TRT',], ['CLE'], ['otf',])\n",
    "calfews_data.add_station_map(['TRT',], ['CLE'], ['evap',])\n",
    "calfews_data.add_station_map(['TRT',], ['CLE'], ['precip',])\n",
    "calfews_data.add_station_map(['TRT',], ['SHA'], ['fci',]) #--- Just temporary"
   ]
  },
  {
   "cell_type": "code",
   "execution_count": null,
   "id": "1d91a6b0",
   "metadata": {},
   "outputs": [],
   "source": [
    "# different station keys for New Bullards\n",
    "station_types = ['storage', 'evap', 'precip']\n",
    "calfews_data.add_station_map(['YRS',], ['BUL'], station_types)\n",
    "calfews_data.add_station_map(['YRS',], ['flow',], ['otf',])\n",
    "calfews_data.add_station_map(['YRS',], ['usefnf',], ['inf',])\n"
   ]
  },
  {
   "cell_type": "code",
   "execution_count": null,
   "id": "e14160b1",
   "metadata": {},
   "outputs": [],
   "source": [
    "#Checks\n",
    "calfews_data.station_use"
   ]
  },
  {
   "cell_type": "code",
   "execution_count": null,
   "id": "83d363d3",
   "metadata": {},
   "outputs": [],
   "source": [
    "# different station keys for delta basins (not used in CALFEWS)\n",
    "station_types = ['storage', 'evap', 'precip']\n",
    "calfews_data.add_station_map(['MHB',], ['none',], station_types)\n",
    "calfews_data.add_station_map(['PAR',], [['PAR', 'CMN'],], station_types)\n",
    "station_types = ['inf', 'otf',]\n",
    "calfews_data.add_station_map(['MHB',], ['flow',], station_types)\n",
    "calfews_data_m.add_station_map(['MHB',], ['flow',], ['inf',])\n",
    "calfews_data.add_station_map(['PAR',], ['CMN',], ['otf',])"
   ]
  },
  {
   "cell_type": "code",
   "execution_count": null,
   "id": "d3417ce7",
   "metadata": {},
   "outputs": [],
   "source": [
    "#Checks\n",
    "calfews_data.station_use"
   ]
  },
  {
   "cell_type": "code",
   "execution_count": null,
   "id": "54eda227",
   "metadata": {},
   "outputs": [],
   "source": [
    "#full-natural-flow keys for other reservoirs\n",
    "basin_names = ['PAR', 'NHG', 'DNP', 'MIL', 'PFT', 'KWH', 'SUC']\n",
    "station_names = ['MKM', 'nofnf', 'TLG', 'SJF', 'PNF', 'TRM', 'SCC']\n",
    "calfews_data.add_station_map(basin_names, station_names, ['fnf',])\n",
    "#Trinity values are: MUM, HIG,BNK,BFL, RRM, SHM, \n"
   ]
  },
  {
   "cell_type": "code",
   "execution_count": null,
   "id": "291fb496",
   "metadata": {},
   "outputs": [],
   "source": [
    "# snow station mapping (Trinity Values are added)\n",
    "basin_names = ['SHA', 'TRT', 'ORO', 'YRS', 'FOL']\n",
    "station_names = [['SLT', 'STM', 'CDP'], ['MUM', 'BNK', 'RRM'],  ['KTL', 'GRZ', 'PLP'], ['KTL', 'GRZ', 'PLP'], ['CAP', 'SIL', 'HYS']]\n",
    "calfews_data.add_station_map(basin_names, station_names, ['snow',])\n",
    "basin_names = ['MHB', 'PAR', 'NHG']\n",
    "station_names = [['HHM', 'BLK'], ['HHM', 'BLK'], ['HHM', 'BLK']]\n",
    "calfews_data.add_station_map(basin_names, station_names, ['snow',])\n",
    "basin_names = ['NML', 'DNP', 'EXC', 'MIL']\n",
    "station_names = [['DDM', 'GNL', 'REL', 'SLM', 'BLD'], ['DAN', 'TUM', 'HRS', 'PDS'], ['STR', 'TNY'], ['VLC', 'AGP', 'CHM', 'HNT']]\n",
    "calfews_data.add_station_map(basin_names, station_names, ['snow',])\n",
    "basin_names = ['PFT', 'KWH', 'SUC', 'ISB']\n",
    "station_names = [['BSH', 'BCB', 'UBC'], ['FRW', 'GNF'], ['FRW', 'GNF'], ['CBT', 'CSV']]\n",
    "calfews_data.add_station_map(basin_names, station_names, ['snow',])\n"
   ]
  },
  {
   "cell_type": "code",
   "execution_count": null,
   "id": "23d13acb",
   "metadata": {},
   "outputs": [],
   "source": [
    "##basin-level data\n",
    "sensor_basin = [82, 8, 15, 76, 23, 74, 45, 41]\n",
    "labels_basin = ['snow', 'fnf', 'storage', 'inf', 'otf', 'evap', 'precip', 'gains']\n",
    "url_parts_d = ['https://cdec.water.ca.gov/dynamicapp/req/CSVDataServlet?Stations=', '&SensorNums=', '&dur_code=D&Start=', '&End=']\n",
    "url_parts_m = ['https://cdec.water.ca.gov/dynamicapp/req/CSVDataServlet?Stations=', '&SensorNums=', '&dur_code=M&Start=', '&End=']\n",
    "url_parts_h = ['https://cdec.water.ca.gov/dynamicapp/req/CSVDataServlet?Stations=', '&SensorNums=', '&dur_code=H&Start=', '&End=']\n"
   ]
  },
  {
   "cell_type": "code",
   "execution_count": null,
   "id": "16f6cad5",
   "metadata": {},
   "outputs": [],
   "source": [
    "url_parts_h"
   ]
  },
  {
   "cell_type": "code",
   "execution_count": null,
   "id": "c275ab02",
   "metadata": {},
   "outputs": [],
   "source": [
    "hourly_dict = {}\n",
    "for x in stations_basin:\n",
    "  hourly_dict[x] = []\n",
    "for x in san_luis_labels:\n",
    "  hourly_dict[x] = []\n",
    "for x in delta_labels:\n",
    "  hourly_dict[x] = []\n",
    "hourly_dict['MIL'].append('gains')"
   ]
  },
  {
   "cell_type": "code",
   "execution_count": null,
   "id": "5cd6c1a1",
   "metadata": {},
   "outputs": [],
   "source": [
    "#Checks\n",
    "calfews_data.station_use"
   ]
  },
  {
   "cell_type": "code",
   "execution_count": null,
   "id": "12e5f2c0",
   "metadata": {},
   "outputs": [],
   "source": [
    "# link and read all data\n",
    "calfews_data_m.link_api(stations_basin, [76,], ['inf',], url_parts_m, url_parts_h, hourly_dict)\n",
    "calfews_data_m.link_api(stations_basin, [65,], ['fnf',], url_parts_m, url_parts_h, hourly_dict)\n",
    "calfews_data.link_api(stations_basin, sensor_basin, labels_basin, url_parts_d, url_parts_h, hourly_dict)\n",
    "calfews_data.link_api(['PFT', 'KWH', 'ISB'], [64,], ['evap',], url_parts_d, url_parts_h, hourly_dict)\n",
    "calfews_data.adjust_values('MIL', 'gains', ['MI1', 'MI2'], [85, 85], url_parts_d)\n",
    "calfews_data_m.find_ratios(stations_basin, 'inf')\n",
    "calfews_data.fill_missing(stations_basin, calfews_data_m.station_coefs, calfews_data_m.real_time_data)\n",
    "calfews_data.adjust_fnf_monthly(calfews_data_m.real_time_data, stations_basin)\n"
   ]
  },
  {
   "cell_type": "code",
   "execution_count": null,
   "id": "effa4fd8",
   "metadata": {},
   "outputs": [],
   "source": [
    "#Generate data columns for San Luis, Delta Pumps, and Old-Middle River Flows\n",
    "san_luis_stations = ['SNL', 'SLF', 'LUS', 'TRP', 'HRO', 'OMR']\n",
    "sensor_sl  = [15, 15, 15, 70, 70, 41]\n",
    "\n",
    "# add station maps for san luis, read data\n",
    "for snl_l, snl_sta, snl_sens, snl_suf in zip(san_luis_labels, san_luis_stations, sensor_sl, san_luis_suffix):\n",
    "  calfews_data.add_station_map([snl_l,], [snl_sta,], [snl_suf,])\n",
    "  if snl_l == 'SLS' or snl_l == 'SLF':\n",
    "    calfews_data.link_api([snl_l,], [snl_sens,], [snl_suf,], url_parts_m, url_parts_h, hourly_dict)\n",
    "    calfews_data.make_monthly_daily(snl_l, snl_suf)\n",
    "  else:\n",
    "    calfews_data.link_api([snl_l,], [snl_sens,], [snl_suf,], url_parts_d, url_parts_h, hourly_dict)"
   ]
  },
  {
   "cell_type": "code",
   "execution_count": null,
   "id": "33231299",
   "metadata": {},
   "outputs": [],
   "source": [
    "# read delta station data from dayflow database\n",
    "calfews_data.link_dayflow_api()\n",
    "\n",
    "cdec_delta_labels = ['SAC', 'SAC', 'SJ', 'delta', 'BAK']\n",
    "cdec_delta_stations = ['YBY', 'FPT', 'VNS', 'SFS', 'BKS']\n",
    "cdec_delta_sensors = [41, 20, 41, 45, 272]\n",
    "cdec_delta_suffix = ['gains', 'gains', 'gains', 'depletions', 'pump']\n",
    "for del_l, del_sta, del_sen, del_suf in zip(cdec_delta_labels, cdec_delta_stations, cdec_delta_sensors, cdec_delta_suffix):\n",
    "  calfews_data.add_station_map([del_l,], [del_sta,], [del_suf,])\n",
    "  calfews_data.link_api([del_l,], [del_sen,], [del_suf,], url_parts_d, url_parts_h, hourly_dict, use_delta_cats = True)"
   ]
  },
  {
   "cell_type": "code",
   "execution_count": null,
   "id": "a5ede710",
   "metadata": {},
   "outputs": [],
   "source": [
    "calfews_data.assemble_fci(url_parts_d, url_parts_m)\n",
    "\n"
   ]
  },
  {
   "cell_type": "code",
   "execution_count": null,
   "id": "6313d485",
   "metadata": {},
   "outputs": [],
   "source": [
    "calfews_data.fix_missing_inputs()\n",
    "calfews_data.real_time_data.to_csv('cord-sim_realtime.csv')\n",
    "calfews_data_m.real_time_data.to_csv('cord-sim_realtime_monthly.csv')"
   ]
  },
  {
   "cell_type": "code",
   "execution_count": null,
   "id": "3b33bde1",
   "metadata": {},
   "outputs": [],
   "source": [
    "old_filename = 'calfews_src/data/input/calfews_src-data.csv'\n",
    "new_filename = 'cord-sim_realtime.csv'\n",
    "calfews_data.make_figure_comparison(stations_basin, labels_basin, old_filename, new_filename)"
   ]
  },
  {
   "cell_type": "code",
   "execution_count": null,
   "id": "9ed22514",
   "metadata": {},
   "outputs": [],
   "source": []
  },
  {
   "cell_type": "code",
   "execution_count": null,
   "id": "71440b19",
   "metadata": {},
   "outputs": [],
   "source": []
  }
 ],
 "metadata": {
  "kernelspec": {
   "display_name": ".venv_conda_calfews",
   "language": "python",
   "name": ".venv_conda_calfews"
  },
  "language_info": {
   "codemirror_mode": {
    "name": "ipython",
    "version": 3
   },
   "file_extension": ".py",
   "mimetype": "text/x-python",
   "name": "python",
   "nbconvert_exporter": "python",
   "pygments_lexer": "ipython3",
   "version": "3.7.12"
  }
 },
 "nbformat": 4,
 "nbformat_minor": 5
}
