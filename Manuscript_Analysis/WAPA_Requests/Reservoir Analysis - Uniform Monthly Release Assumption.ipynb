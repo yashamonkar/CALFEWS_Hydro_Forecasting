{
 "cells": [
  {
   "cell_type": "markdown",
   "id": "d2085d9f",
   "metadata": {},
   "source": [
    "# Generic Reservoir Analysis: Uniform Monthly Release Assumption"
   ]
  },
  {
   "cell_type": "markdown",
   "id": "ca549930",
   "metadata": {},
   "source": [
    "## Introduction"
   ]
  },
  {
   "cell_type": "markdown",
   "id": "bcdffd5e",
   "metadata": {},
   "source": [
    "This notebook provides a generic analysis framework for assessing the validity of the Uniform Monthly Release Assumption for any reservoir. We compare daily and monthly release models to understand potential discrepancies in spill and penstock flow calculations.\n",
    "\n",
    "To use this notebook, you need to provide:\n",
    "1. The reservoir name (e.g., 'Folsom')\n",
    "2. The penstock capacity in CFS\n",
    "\n",
    "Currently the notebook uses the Water Year Types for the Sacremento. Change this file if your reservoir is not in the Sacramento river basin (https://cdec.water.ca.gov/reportapp/javareports?name=WSIHIST)"
   ]
  },
  {
   "cell_type": "markdown",
   "id": "5a4dd252",
   "metadata": {},
   "source": [
    "Make sure you have the following data files in the same directory as this notebook:\n",
    "1. '[ReservoirName]_Outflow.xlsx' - Daily release data for your reservoir\n",
    "2. 'Water_Year_Types.csv' - Historic water year types"
   ]
  },
  {
   "cell_type": "markdown",
   "id": "cb7ece9f",
   "metadata": {},
   "source": [
    "Note: You may need to adjust the code if your data differs significantly.\n"
   ]
  },
  {
   "cell_type": "code",
   "execution_count": null,
   "id": "24eb1bdd",
   "metadata": {},
   "outputs": [],
   "source": [
    "# Import Libraries\n",
    "import os\n",
    "import numpy as np\n",
    "import pandas as pd\n",
    "import matplotlib.pyplot as plt\n",
    "import matplotlib.dates as mdates\n"
   ]
  },
  {
   "cell_type": "markdown",
   "id": "c0bfc71f",
   "metadata": {},
   "source": [
    "### User Inputs here"
   ]
  },
  {
   "cell_type": "code",
   "execution_count": null,
   "id": "58742e56",
   "metadata": {},
   "outputs": [],
   "source": [
    "# User inputs\n",
    "reservoir_name = \"Oroville\"  # Change this to your reservoir name\n",
    "penstock_capacity = 16950  # Change this to your reservoir's penstock capacity in CFS\n",
    "\n",
    "# Global parameters\n",
    "cfs_to_afd = 1.983  # Unit conversion CFS to AFD"
   ]
  },
  {
   "cell_type": "code",
   "execution_count": null,
   "id": "bb4f0fe3",
   "metadata": {},
   "outputs": [],
   "source": [
    "# Load daily release data \n",
    "outflow_file = f'{reservoir_name}_Outflow.xlsx'\n",
    "reservoir_outflow = pd.read_excel(outflow_file)\n",
    "reservoir_outflow = reservoir_outflow[['OBS DATE', 'VALUE']]\n",
    "reservoir_outflow['VALUE'] = pd.to_numeric(reservoir_outflow['VALUE'].str.replace(',', ''))\n",
    "reservoir_outflow['OBS DATE'] = pd.to_datetime(reservoir_outflow['OBS DATE'])\n",
    "reservoir_outflow.set_index('OBS DATE', inplace=True)"
   ]
  },
  {
   "cell_type": "code",
   "execution_count": null,
   "id": "e6850fc9",
   "metadata": {},
   "outputs": [],
   "source": [
    "# Segment data to WY 1997 - WY 2023\n",
    "reservoir_outflow = reservoir_outflow['1996-10-01':'2023-09-30']"
   ]
  },
  {
   "cell_type": "code",
   "execution_count": null,
   "id": "00c1fce8",
   "metadata": {},
   "outputs": [],
   "source": [
    "# Load historic water year types\n",
    "wy_types = pd.read_csv(\"Water_Year_Types.csv\", index_col=0)\n",
    "wy_types.index = pd.to_datetime(wy_types.index)\n",
    "wy_types = wy_types[wy_types.index > '1996-09-30']\n",
    "wy_types.index = wy_types.index + pd.offsets.MonthEnd(0)  # Align index to the end of the month"
   ]
  },
  {
   "cell_type": "markdown",
   "id": "55c95cd9",
   "metadata": {},
   "source": [
    "## Analysis\n",
    "\n",
    "### Daily Time Step Analysis"
   ]
  },
  {
   "cell_type": "code",
   "execution_count": null,
   "id": "48800d62",
   "metadata": {},
   "outputs": [],
   "source": [
    "# Calculate daily spill\n",
    "daily_spill = (reservoir_outflow['VALUE'] - penstock_capacity).clip(lower=0)\n",
    "daily_spill = daily_spill * cfs_to_afd / 1000  # Convert to Thousand Acre-feet/day\n",
    "daily_spill = daily_spill.resample('M').sum()  # Aggregate to monthly\n",
    "\n",
    "# Calculate daily penstock flow\n",
    "daily_penstock = reservoir_outflow['VALUE'].clip(upper=penstock_capacity)\n",
    "daily_penstock = daily_penstock * cfs_to_afd / 1000  # Convert to Thousand Acre-feet/day\n",
    "daily_penstock = daily_penstock.resample('M').sum()  # Aggregate to monthly"
   ]
  },
  {
   "cell_type": "markdown",
   "id": "ad9b9625",
   "metadata": {},
   "source": [
    "### Monthly Time Step Analysis"
   ]
  },
  {
   "cell_type": "code",
   "execution_count": null,
   "id": "1f64fe5a",
   "metadata": {},
   "outputs": [],
   "source": [
    "# Aggregate total releases to monthly time-step\n",
    "monthly_flow = pd.DataFrame({\n",
    "    'Flow': reservoir_outflow['VALUE'].resample('M').sum(),  # Total Monthly Releases\n",
    "    'DPM': reservoir_outflow['VALUE'].resample('M').count()  # Days per month (Accounts for missing days as well)\n",
    "})\n",
    "\n",
    "# Calculate monthly spill\n",
    "monthly_spill = (monthly_flow['Flow'] - monthly_flow['DPM'] * penstock_capacity).clip(lower=0)\n",
    "monthly_spill = monthly_spill * cfs_to_afd / 1000  # Convert to Thousand Acre-feet/day\n",
    "\n",
    "# Calculate monthly penstock flow\n",
    "monthly_penstock = monthly_flow['Flow'].clip(upper=monthly_flow['DPM'] * penstock_capacity)\n",
    "monthly_penstock = monthly_penstock * cfs_to_afd / 1000  # Convert to Thousand Acre-feet/day"
   ]
  },
  {
   "cell_type": "markdown",
   "id": "12bc4719",
   "metadata": {},
   "source": [
    "## Metric Calculations\n",
    "\n",
    "### Metric I: Underestimation of Spill"
   ]
  },
  {
   "cell_type": "code",
   "execution_count": null,
   "id": "4b34032b",
   "metadata": {},
   "outputs": [],
   "source": [
    "spill_underestimation = 100 * (sum(daily_spill) - sum(monthly_spill)) / sum(monthly_spill)\n",
    "print(f'Underestimation of spill for {reservoir_name}: {round(spill_underestimation, 2)}%')"
   ]
  },
  {
   "cell_type": "code",
   "execution_count": null,
   "id": "bf7c54a4",
   "metadata": {},
   "outputs": [],
   "source": [
    "penstock_overestimation = 100 * (sum(monthly_penstock) - sum(daily_penstock)) / sum(daily_penstock)\n",
    "print(f'Over-estimation of penstock flow for {reservoir_name}: {round(penstock_overestimation, 2)}%')"
   ]
  },
  {
   "cell_type": "markdown",
   "id": "0d1ef7f4",
   "metadata": {},
   "source": [
    "### Monthly Distribution of Penstock Flow Overestimation"
   ]
  },
  {
   "cell_type": "code",
   "execution_count": null,
   "id": "ef5efdf0",
   "metadata": {},
   "outputs": [],
   "source": [
    "penstock_overestimate = pd.DataFrame({\n",
    "    'Daily': daily_penstock,\n",
    "    'Monthly': monthly_penstock,\n",
    "    'WYT': wy_types['SAC_Index']\n",
    "})\n",
    "penstock_overestimate['Month'] = penstock_overestimate.index.month"
   ]
  },
  {
   "cell_type": "markdown",
   "id": "837bd73f",
   "metadata": {},
   "source": [
    "### Penstock overestimates in Jan-Apr"
   ]
  },
  {
   "cell_type": "code",
   "execution_count": null,
   "id": "96767eb6",
   "metadata": {},
   "outputs": [],
   "source": [
    "filtered_penstock_overestimate = penstock_overestimate[penstock_overestimate['Month'].isin([1, 2, 3, 4])]\n",
    "jan_apr_overestimate = 100 * (filtered_penstock_overestimate['Monthly'].sum() - filtered_penstock_overestimate['Daily'].sum()) / filtered_penstock_overestimate['Daily'].sum()\n",
    "print(f'Over-estimation of penstock flow for {reservoir_name} during Jan-Apr: {round(jan_apr_overestimate, 2)}%')"
   ]
  },
  {
   "cell_type": "code",
   "execution_count": null,
   "id": "510c0993",
   "metadata": {},
   "outputs": [],
   "source": [
    "# Function to create the monthly penstock flow overestimation table\n",
    "def create_penstock_overestimate_table(penstock_overestimate):\n",
    "    # Ensure the Month column is correctly formatted\n",
    "    penstock_overestimate['Month'] = pd.to_datetime(penstock_overestimate.index).month\n",
    "    \n",
    "    # Function to calculate overestimate value\n",
    "    def calculate_penstock_overestimate(group):\n",
    "        daily_sum = group['Daily'].sum()\n",
    "        monthly_sum = group['Monthly'].sum()\n",
    "        return round(100 * (monthly_sum - daily_sum) / daily_sum, 2)\n",
    "    \n",
    "    # Calculate for all WYTs and Months\n",
    "    months_by_wyt = penstock_overestimate.groupby(['WYT', 'Month']).apply(calculate_penstock_overestimate).reset_index(name='Calculation')\n",
    "    \n",
    "    # Create the pivot table\n",
    "    pivot_table = months_by_wyt.pivot(index='WYT', columns='Month', values='Calculation')\n",
    "    \n",
    "    # Rename columns to month names\n",
    "    month_names = ['Jan', 'Feb', 'Mar', 'Apr', 'May', 'Jun', 'Jul', 'Aug', 'Sep', 'Oct', 'Nov', 'Dec']\n",
    "    pivot_table.columns = month_names\n",
    "    \n",
    "    # Calculate 'All Months' column\n",
    "    all_months = penstock_overestimate.groupby('WYT').apply(calculate_penstock_overestimate)\n",
    "    pivot_table['All Months'] = all_months\n",
    "    \n",
    "    # Calculate 'All Types' row\n",
    "    all_types = penstock_overestimate.groupby('Month').apply(calculate_penstock_overestimate)\n",
    "    all_types_row = pd.DataFrame(all_types).T\n",
    "    all_types_row.index = ['All Types']\n",
    "    all_types_row.columns = month_names\n",
    "    all_types_row['All Months'] = calculate_penstock_overestimate(penstock_overestimate)\n",
    "    \n",
    "    # Combine all rows\n",
    "    final_table = pd.concat([pivot_table, all_types_row])\n",
    "    \n",
    "    # Reorder columns to match the desired output\n",
    "    column_order = ['All Months'] + month_names\n",
    "    final_table = final_table[column_order]\n",
    "    \n",
    "    # Define the desired row order\n",
    "    row_order = ['All Types', 'W', 'AN', 'BN', 'D', 'C']\n",
    "    final_table = final_table.reindex(row_order)\n",
    "    \n",
    "    # Replace NaN with '-'\n",
    "    final_table = final_table.replace(np.nan, '-')\n",
    "    \n",
    "    # Round non-dash values to integers\n",
    "    final_table = final_table.applymap(lambda x: int(round(x)) if x != '-' else x)\n",
    "\n",
    "    return final_table"
   ]
  },
  {
   "cell_type": "code",
   "execution_count": null,
   "id": "f99c0610",
   "metadata": {},
   "outputs": [],
   "source": [
    "# Create and display the table\n",
    "penstock_overestimate_table = create_penstock_overestimate_table(penstock_overestimate)\n",
    "print(f\"Penstock Flow Overestimation Table for {reservoir_name} (values in percentage)\")\n",
    "display(penstock_overestimate_table)"
   ]
  },
  {
   "cell_type": "markdown",
   "id": "4076f20a",
   "metadata": {},
   "source": [
    "## Visual Analysis\n",
    "\n",
    "### Spill Analysis Scatterplot"
   ]
  },
  {
   "cell_type": "code",
   "execution_count": null,
   "id": "7f1ec5db",
   "metadata": {},
   "outputs": [],
   "source": [
    "plt.figure(figsize=(10, 6))\n",
    "plt.scatter(daily_spill, monthly_spill)\n",
    "max_val = max(monthly_spill.max(), daily_spill.max())\n",
    "min_val = min(monthly_spill.min(), daily_spill.min())\n",
    "plt.plot([min_val, max_val], [min_val, max_val], color='red', linestyle='--')\n",
    "plt.title(f'Monthly Spill: {reservoir_name} (WY 1997 - WY 2023)', fontsize=20)\n",
    "plt.xlabel('Daily Time Step Model \\n (Thousand Acre-ft)', fontsize=16)\n",
    "plt.ylabel('Monthly Time Step Model \\n (Thousand Acre-ft)', fontsize=16)\n",
    "plt.grid(True)\n",
    "plt.show()"
   ]
  },
  {
   "cell_type": "markdown",
   "id": "97e12685",
   "metadata": {},
   "source": [
    "### Penstock Flow Scatterplot"
   ]
  },
  {
   "cell_type": "code",
   "execution_count": null,
   "id": "0602e516",
   "metadata": {},
   "outputs": [],
   "source": [
    "plt.figure(figsize=(10, 6))\n",
    "plt.scatter(daily_penstock, monthly_penstock)\n",
    "max_val = max(monthly_penstock.max(), daily_penstock.max())\n",
    "min_val = min(monthly_penstock.min(), daily_penstock.min())\n",
    "plt.plot([min_val, max_val], [min_val, max_val], color='red', linestyle='--')\n",
    "plt.title(f'Monthly Penstock Flow: {reservoir_name} (WY 1997 - WY 2023)', fontsize=20)\n",
    "plt.xlabel('Daily Time Step Model \\n (Thousand Acre-ft)', fontsize=16)\n",
    "plt.ylabel('Monthly Time Step Model \\n (Thousand Acre-ft)', fontsize=16)\n",
    "plt.grid(True)\n",
    "plt.show()"
   ]
  },
  {
   "cell_type": "markdown",
   "id": "0e0017d3",
   "metadata": {},
   "source": [
    "### Monthly Counts of Spill Underestimation"
   ]
  },
  {
   "cell_type": "code",
   "execution_count": null,
   "id": "6683fd71",
   "metadata": {},
   "outputs": [],
   "source": [
    "spill_difference = daily_spill - monthly_spill\n",
    "non_zero_spill = spill_difference[spill_difference != 0]\n",
    "non_zero_spill = non_zero_spill.reset_index()\n",
    "non_zero_spill['Month'] = non_zero_spill['OBS DATE'].dt.strftime('%b')  # Extract month as a string\n",
    "monthly_non_zero_count = non_zero_spill.groupby('Month').count()\n",
    "monthly_non_zero_count = monthly_non_zero_count.reindex(['Jan', 'Feb', 'Mar', 'Apr', 'May', 'Jun', \n",
    "                                                         'Jul', 'Aug', 'Sep', 'Oct', 'Nov', 'Dec'])\n",
    "\n",
    "monthly_non_zero_count['OBS DATE'].plot(kind='bar', figsize=(10, 6))\n",
    "plt.xlabel('Month', fontsize=16)\n",
    "plt.ylabel('Months with Spill Under-estimation \\n (Count)', fontsize=16)\n",
    "plt.title(f'{reservoir_name} (WY 1997 - WY 2023)', fontsize=20)\n",
    "plt.xticks(fontsize=14)\n",
    "plt.yticks(fontsize=14)\n",
    "plt.show()"
   ]
  },
  {
   "cell_type": "markdown",
   "id": "8acc44d7",
   "metadata": {},
   "source": [
    "## Example Year Visual Analysis (e.g., Wet Water Year)"
   ]
  },
  {
   "cell_type": "code",
   "execution_count": null,
   "id": "fc33a1cd",
   "metadata": {},
   "outputs": [],
   "source": [
    "# Choose a specific year for analysis (e.g., a wet water year)\n",
    "analysis_year = 2017  # Change this to the desired year\n",
    "\n",
    "# Subset to needed timeframe (January to April of the chosen year)\n",
    "reservoir_example = reservoir_outflow * cfs_to_afd / 1000  # Convert to TAF\n",
    "reservoir_example = reservoir_example[f'{analysis_year}-01-01':f'{analysis_year}-04-30']\n",
    "\n",
    "# Compute the Uniform Monthly Release Assumption Values\n",
    "monthly_avg = reservoir_example.resample('MS')['VALUE'].mean()\n",
    "monthly_avg_daily = monthly_avg.reindex(reservoir_example.index, method='ffill')\n",
    "reservoir_example['Monthly_Avg'] = monthly_avg_daily\n",
    "\n",
    "plt.figure(figsize=(12, 6))\n",
    "plt.fill_between(reservoir_example.index, reservoir_example['Monthly_Avg'], 0, color='yellow', alpha=0.3)\n",
    "plt.plot(reservoir_example.index, reservoir_example['Monthly_Avg'], linewidth=2, color='orange', label='Monthly Model')\n",
    "plt.fill_between(reservoir_example.index, reservoir_example['VALUE'], 0, color='blue', alpha=0.3)\n",
    "plt.plot(reservoir_example.index, reservoir_example['VALUE'], linewidth=2, color='blue', label='Daily Model')\n",
    "plt.title(f'{reservoir_name} Releases in {analysis_year}', fontsize=20)\n",
    "plt.xlabel('Date', fontsize=16)\n",
    "plt.ylabel('Daily Releases (TAF)', fontsize=16)\n",
    "for month in pd.date_range(start=f'{analysis_year}-01-01', end=f'{analysis_year}-05-01', freq='MS'):\n",
    "    plt.axvline(x=month, color='black', linewidth=1.15)\n",
    "plt.axhline(y=penstock_capacity * cfs_to_afd / 1000, color='red', linestyle='--', linewidth=2, label='Penstock Capacity')\n",
    "plt.legend(fontsize=12, loc='upper center', bbox_to_anchor=(0.5, -0.15), ncol=3, frameon=False)\n",
    "plt.grid(True)\n",
    "ax = plt.gca()\n",
    "ax.xaxis.set_major_locator(mdates.MonthLocator())\n",
    "ax.xaxis.set_major_formatter(mdates.DateFormatter('%b'))\n",
    "plt.setp(ax.xaxis.get_majorticklabels(), rotation=0, ha='center', fontsize=14)\n",
    "plt.tight_layout()\n",
    "plt.show()"
   ]
  },
  {
   "cell_type": "code",
   "execution_count": null,
   "id": "e514c8e1",
   "metadata": {},
   "outputs": [],
   "source": []
  }
 ],
 "metadata": {
  "kernelspec": {
   "display_name": "Python 3 (ipykernel)",
   "language": "python",
   "name": "python3"
  },
  "language_info": {
   "codemirror_mode": {
    "name": "ipython",
    "version": 3
   },
   "file_extension": ".py",
   "mimetype": "text/x-python",
   "name": "python",
   "nbconvert_exporter": "python",
   "pygments_lexer": "ipython3",
   "version": "3.11.5"
  }
 },
 "nbformat": 4,
 "nbformat_minor": 5
}
