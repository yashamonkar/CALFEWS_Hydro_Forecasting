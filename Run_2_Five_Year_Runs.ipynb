{
 "cells": [
  {
   "cell_type": "markdown",
   "id": "db099792",
   "metadata": {},
   "source": [
    "### Five Year CALFEWS Annual Runs \n",
    "\n",
    "This script includes code to run CALFEWS in a simulation mode annual for 5 year time steps. \n",
    "\n",
    "1. Last 5 year period (WY 2019 - WY 2023)\n",
    "\n",
    "2. Five year period with lowest level of starting storage\n",
    "\n",
    "3. Five year period with highest level of starting storage\n",
    "\n",
    "Each run starts on Oct-1st and ends on Sep-30 of the fifth year. \n",
    "\n",
    "The historical data are passed for each run. \n",
    "\n",
    "The results are stored in `Five_Year_Runs`"
   ]
  },
  {
   "cell_type": "code",
   "execution_count": 1,
   "id": "97066061",
   "metadata": {},
   "outputs": [],
   "source": [
    "%load_ext cython"
   ]
  },
  {
   "cell_type": "code",
   "execution_count": 2,
   "id": "c49495ad",
   "metadata": {},
   "outputs": [],
   "source": [
    "%%cython\n",
    "import numpy as np\n",
    "import pandas as pd\n",
    "import matplotlib.pyplot as plt\n",
    "import os\n",
    "import shutil\n",
    "import sys\n",
    "from configobj import ConfigObj\n",
    "import json\n",
    "from distutils.util import strtobool\n",
    "import h5py\n",
    "from calfews_src.model_cy cimport Model\n",
    "from calfews_src.inputter_cy import Inputter\n",
    "from calfews_src.scenario import Scenario\n",
    "from calfews_src.util import *\n",
    "from calfews_src.plotter import *\n",
    "from calfews_src.visualizer import Visualizer\n",
    "from datetime import datetime\n",
    "from subprocess import run\n",
    "\n",
    "import glob"
   ]
  },
  {
   "cell_type": "markdown",
   "id": "d702ed7f",
   "metadata": {},
   "source": [
    "### Ensemble Run WY2019-WY2023"
   ]
  },
  {
   "cell_type": "code",
   "execution_count": 3,
   "id": "04088fc9",
   "metadata": {},
   "outputs": [
    {
     "name": "stdout",
     "output_type": "stream",
     "text": [
      "1996\n",
      "1997\n",
      "1998\n",
      "1999\n",
      "2000\n",
      "2001\n",
      "2002\n",
      "2003\n",
      "2004\n",
      "2005\n",
      "2006\n",
      "2007\n",
      "2008\n",
      "2009\n",
      "2010\n",
      "2011\n",
      "2012\n",
      "2013\n",
      "2014\n",
      "2015\n",
      "2016\n",
      "2017\n",
      "2018\n",
      "2019\n"
     ]
    }
   ],
   "source": [
    "# Loop through the years from 1996 to 2023\n",
    "for year in range(1996, 2020):\n",
    "    print(year)\n",
    "    #Copy the input source file\n",
    "    source_file = f\"calfews_src\\\\data\\\\input\\\\5yr_runs\\\\WY_{year}.csv\"\n",
    "    dest_file = r\"calfews_src\\data\\input\\5yr_runs\\5yr_sim_inflow.csv\"\n",
    "    shutil.copy(source_file, dest_file)\n",
    "    \n",
    "    # Copy the runtime parameters file\n",
    "    source_file = r\"Five_Year_Runs\\runtime_params_5_yr_WY2019.ini\"\n",
    "    dest_file = r\"runtime_params.ini\"\n",
    "    shutil.copy(source_file, dest_file)\n",
    "    \n",
    "    # Set up the results validation path\n",
    "    results_validation = f\"Five_Year_Runs/results/{year}\"\n",
    "    \n",
    "    # Run the Python script using subprocess\n",
    "    run([\"python\", \"-W\", \"ignore\", \"run_main_cy.py\", results_validation, \"1\", \"1\"])"
   ]
  },
  {
   "cell_type": "markdown",
   "id": "92ab020d",
   "metadata": {},
   "source": [
    "### DRY/LOW STORAGE START - Ensemble Run start on Oct-1 2015"
   ]
  },
  {
   "cell_type": "code",
   "execution_count": 4,
   "id": "c47291cb",
   "metadata": {},
   "outputs": [
    {
     "name": "stdout",
     "output_type": "stream",
     "text": [
      "1996\n",
      "1997\n",
      "1998\n",
      "1999\n",
      "2000\n",
      "2001\n",
      "2002\n",
      "2003\n",
      "2004\n",
      "2005\n",
      "2006\n",
      "2007\n",
      "2008\n",
      "2009\n",
      "2010\n",
      "2011\n",
      "2012\n",
      "2013\n",
      "2014\n",
      "2015\n",
      "2016\n",
      "2017\n",
      "2018\n",
      "2019\n"
     ]
    }
   ],
   "source": [
    "# Loop through the years from 1996 to 2023\n",
    "for year in range(1996, 2020):\n",
    "    print(year)\n",
    "    #Copy the input source file\n",
    "    source_file = f\"calfews_src\\\\data\\\\input\\\\5yr_runs_dry\\\\WY_{year}.csv\"\n",
    "    dest_file = r\"calfews_src\\data\\input\\5yr_runs_dry\\5yr_sim_inflow.csv\"\n",
    "    shutil.copy(source_file, dest_file)\n",
    "    \n",
    "    # Copy the runtime parameters file\n",
    "    source_file = r\"Five_Year_Runs\\runtime_params_5_yr_dry.ini\"\n",
    "    dest_file = r\"runtime_params.ini\"\n",
    "    shutil.copy(source_file, dest_file)\n",
    "    \n",
    "    # Set up the results validation path\n",
    "    results_validation = f\"Five_Year_Runs/dry_start/{year}\"\n",
    "    \n",
    "    # Run the Python script using subprocess\n",
    "    run([\"python\", \"-W\", \"ignore\", \"run_main_cy.py\", results_validation, \"1\", \"1\"])"
   ]
  },
  {
   "cell_type": "markdown",
   "id": "d032e14c",
   "metadata": {},
   "source": [
    "### WET/HIGH STORAGE START - Ensemble Run start on Oct-1 2011"
   ]
  },
  {
   "cell_type": "code",
   "execution_count": 5,
   "id": "5e7d5f60",
   "metadata": {},
   "outputs": [
    {
     "name": "stdout",
     "output_type": "stream",
     "text": [
      "1996\n",
      "1997\n",
      "1998\n",
      "1999\n",
      "2000\n",
      "2001\n",
      "2002\n",
      "2003\n",
      "2004\n",
      "2005\n",
      "2006\n",
      "2007\n",
      "2008\n",
      "2009\n",
      "2010\n",
      "2011\n",
      "2012\n",
      "2013\n",
      "2014\n",
      "2015\n",
      "2016\n",
      "2017\n",
      "2018\n",
      "2019\n"
     ]
    }
   ],
   "source": [
    "# Loop through the years from 1996 to 2023\n",
    "for year in range(1996, 2020):\n",
    "    print(year)\n",
    "    #Copy the input source file\n",
    "    source_file = f\"calfews_src\\\\data\\\\input\\\\5yr_runs_wet\\\\WY_{year}.csv\"\n",
    "    dest_file = r\"calfews_src\\data\\input\\5yr_runs_wet\\5yr_sim_inflow.csv\"\n",
    "    shutil.copy(source_file, dest_file)\n",
    "    \n",
    "    # Copy the runtime parameters file\n",
    "    source_file = r\"Five_Year_Runs\\runtime_params_5_yr_wet.ini\"\n",
    "    dest_file = r\"runtime_params.ini\"\n",
    "    shutil.copy(source_file, dest_file)\n",
    "    \n",
    "    # Set up the results validation path\n",
    "    results_validation = f\"Five_Year_Runs/wet_start/{year}\"\n",
    "    \n",
    "    # Run the Python script using subprocess\n",
    "    run([\"python\", \"-W\", \"ignore\", \"run_main_cy.py\", results_validation, \"1\", \"1\"])"
   ]
  },
  {
   "cell_type": "code",
   "execution_count": null,
   "id": "d7e28e50",
   "metadata": {},
   "outputs": [],
   "source": []
  },
  {
   "cell_type": "code",
   "execution_count": null,
   "id": "7822aa98",
   "metadata": {},
   "outputs": [],
   "source": []
  }
 ],
 "metadata": {
  "kernelspec": {
   "display_name": ".venv_conda_calfews",
   "language": "python",
   "name": ".venv_conda_calfews"
  },
  "language_info": {
   "codemirror_mode": {
    "name": "ipython",
    "version": 3
   },
   "file_extension": ".py",
   "mimetype": "text/x-python",
   "name": "python",
   "nbconvert_exporter": "python",
   "pygments_lexer": "ipython3",
   "version": "3.7.12"
  }
 },
 "nbformat": 4,
 "nbformat_minor": 5
}
