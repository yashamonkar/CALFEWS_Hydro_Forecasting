{
 "cells": [
  {
   "cell_type": "markdown",
   "id": "6de8ffa6",
   "metadata": {},
   "source": [
    "### CALFEWS Annual Runs \n",
    "\n",
    "This script includes code to run CALFEWS in a simulation mode annual.\n",
    "\n",
    "Each run starts on Oct-1st and ends on Sep-30. \n",
    "\n",
    "The historical data are passed for each run. \n",
    "\n",
    "The results are stored in `Annual_Runs`\n",
    "\n",
    "Each of the 28 runs includes a separate `runtime.ini` file. \n",
    "\n",
    "The post-processing folder withinin `Annual_Runs` contains important functions. "
   ]
  },
  {
   "cell_type": "code",
   "execution_count": 1,
   "id": "c7836620",
   "metadata": {},
   "outputs": [],
   "source": [
    "%load_ext cython"
   ]
  },
  {
   "cell_type": "code",
   "execution_count": 2,
   "id": "c49495ad",
   "metadata": {},
   "outputs": [],
   "source": [
    "%%cython\n",
    "import numpy as np\n",
    "import pandas as pd\n",
    "import matplotlib.pyplot as plt\n",
    "import os\n",
    "import shutil\n",
    "import sys\n",
    "from configobj import ConfigObj\n",
    "import json\n",
    "from distutils.util import strtobool\n",
    "import h5py\n",
    "from calfews_src.model_cy cimport Model\n",
    "from calfews_src.inputter_cy import Inputter\n",
    "from calfews_src.scenario import Scenario\n",
    "from calfews_src.util import *\n",
    "from calfews_src.plotter import *\n",
    "from calfews_src.visualizer import Visualizer\n",
    "from datetime import datetime\n",
    "from subprocess import run"
   ]
  },
  {
   "cell_type": "code",
   "execution_count": 3,
   "id": "04088fc9",
   "metadata": {},
   "outputs": [
    {
     "name": "stdout",
     "output_type": "stream",
     "text": [
      "1996\n",
      "1997\n",
      "1998\n",
      "1999\n",
      "2000\n",
      "2001\n",
      "2002\n",
      "2003\n",
      "2004\n",
      "2005\n",
      "2006\n",
      "2007\n",
      "2008\n",
      "2009\n",
      "2010\n",
      "2011\n",
      "2012\n",
      "2013\n",
      "2014\n",
      "2015\n",
      "2016\n",
      "2017\n",
      "2018\n",
      "2019\n",
      "2020\n",
      "2021\n",
      "2022\n",
      "2023\n"
     ]
    }
   ],
   "source": [
    "# Loop through the years from 1996 to 2023\n",
    "for year in range(1996, 2024):\n",
    "    print(year)\n",
    "    # Copy the runtime parameters file\n",
    "    source_file = f\"Annual_Runs/runtime_params_WY{year}.ini\"\n",
    "    dest_file = \"runtime_params.ini\"\n",
    "    shutil.copy(source_file, dest_file)\n",
    "    \n",
    "    # Set up the results validation path\n",
    "    results_validation = f\"Annual_Runs/results/annual_runs/{year}\"\n",
    "    \n",
    "    # Run the Python script using subprocess\n",
    "    run([\"python\", \"-W\", \"ignore\", \"run_main_cy.py\", results_validation, \"1\", \"1\"])"
   ]
  },
  {
   "cell_type": "code",
   "execution_count": null,
   "id": "2d93962b",
   "metadata": {},
   "outputs": [],
   "source": []
  }
 ],
 "metadata": {
  "kernelspec": {
   "display_name": ".venv_conda_calfews",
   "language": "python",
   "name": ".venv_conda_calfews"
  },
  "language_info": {
   "codemirror_mode": {
    "name": "ipython",
    "version": 3
   },
   "file_extension": ".py",
   "mimetype": "text/x-python",
   "name": "python",
   "nbconvert_exporter": "python",
   "pygments_lexer": "ipython3",
   "version": "3.7.12"
  }
 },
 "nbformat": 4,
 "nbformat_minor": 5
}
